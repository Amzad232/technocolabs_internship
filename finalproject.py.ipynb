{
 "cells": [
  {
   "cell_type": "code",
   "execution_count": 1,
   "metadata": {},
   "outputs": [
    {
     "ename": "ModuleNotFoundError",
     "evalue": "No module named 'streamlit'",
     "output_type": "error",
     "traceback": [
      "\u001b[1;31m---------------------------------------------------------------------------\u001b[0m",
      "\u001b[1;31mModuleNotFoundError\u001b[0m                       Traceback (most recent call last)",
      "\u001b[1;32m<ipython-input-1-58ebc2542adb>\u001b[0m in \u001b[0;36m<module>\u001b[1;34m\u001b[0m\n\u001b[0;32m      1\u001b[0m \u001b[1;32mimport\u001b[0m \u001b[0mpandas\u001b[0m \u001b[1;32mas\u001b[0m \u001b[0mpd\u001b[0m\u001b[1;33m\u001b[0m\u001b[1;33m\u001b[0m\u001b[0m\n\u001b[0;32m      2\u001b[0m \u001b[1;32mimport\u001b[0m \u001b[0mnumpy\u001b[0m \u001b[1;32mas\u001b[0m \u001b[0mnp\u001b[0m\u001b[1;33m\u001b[0m\u001b[1;33m\u001b[0m\u001b[0m\n\u001b[1;32m----> 3\u001b[1;33m \u001b[1;32mimport\u001b[0m \u001b[0mstreamlit\u001b[0m \u001b[1;32mas\u001b[0m \u001b[0mst\u001b[0m\u001b[1;33m\u001b[0m\u001b[1;33m\u001b[0m\u001b[0m\n\u001b[0m\u001b[0;32m      4\u001b[0m \u001b[1;32mfrom\u001b[0m \u001b[0msklearn\u001b[0m\u001b[1;33m.\u001b[0m\u001b[0mlinear_model\u001b[0m \u001b[1;32mimport\u001b[0m \u001b[0mLinearRegression\u001b[0m\u001b[1;33m\u001b[0m\u001b[1;33m\u001b[0m\u001b[0m\n\u001b[0;32m      5\u001b[0m \u001b[1;32mfrom\u001b[0m \u001b[0msklearn\u001b[0m\u001b[1;33m.\u001b[0m\u001b[0mmodel_selection\u001b[0m \u001b[1;32mimport\u001b[0m \u001b[0mtrain_test_split\u001b[0m\u001b[1;33m\u001b[0m\u001b[1;33m\u001b[0m\u001b[0m\n",
      "\u001b[1;31mModuleNotFoundError\u001b[0m: No module named 'streamlit'"
     ]
    }
   ],
   "source": [
    "import pandas as pd\n",
    "import numpy as np\n",
    "import streamlit as st\n",
    "from sklearn.linear_model import LinearRegression\n",
    "from sklearn.model_selection import train_test_split\n",
    "from sklearn.ensemble import RandomForestClassifier\n",
    "\n",
    "st.write(\"\"\"\n",
    "# Accidents Prediction App\n",
    "This app predicts the most accident prone state of USA\n",
    "\"\"\")\n",
    "st.write('---')\n",
    "road_accidents=pd.read_csv('road-accidents.csv',sep='|',comment='#')\n",
    "miles_driven=pd.read_csv('miles-driven.csv',sep='|',comment='#')\n",
    "df=pd.concat([road_accidents,miles_driven['million_miles_annually']],axis=1)\n",
    "\n",
    "X_train=df[['perc_fatl_speed', 'perc_fatl_alcohol','perc_fatl_1st_time','drvr_fatl_col_bmiles','million_miles_annually']]\n",
    "y_train=df['state']\n",
    "\n",
    "st.sidebar.header('User Input Features')\n",
    "\n",
    "def user_input_features():\n",
    "    drvr_fatl_col_bmiles=st.sidebar.slider('No. of drivers involved in fatal collision',int(X_train.drvr_fatl_col_bmiles.min()),int(X_train.drvr_fatl_col_bmiles.max()),int(X_train.drvr_fatl_col_bmiles.mean()))\n",
    "    perc_fatl_speed=st.sidebar.slider('% of drivers involved in over-speeding',int(X_train.perc_fatl_speed.min()),int(X_train.perc_fatl_speed.max()),int(X_train.perc_fatl_speed.mean()))\n",
    "    perc_fatl_alcohol=st.sidebar.slider('% of drivers alcohol impaired',int(X_train.perc_fatl_alcohol.min()),int(X_train.perc_fatl_alcohol.max()),int(X_train.perc_fatl_alcohol.mean()))\n",
    "    perc_fatl_1st_time=st.sidebar.slider('% of drivers who had not been in accidents',int(X_train.perc_fatl_1st_time.min()),int(X_train.perc_fatl_1st_time.max()),int(X_train.perc_fatl_1st_time.mean()))\n",
    "    million_miles_annually=st.sidebar.slider('million_miles_annually',int(X_train.million_miles_annually.min()),int(X_train.million_miles_annually.max()),int(X_train.million_miles_annually.mean()))\n",
    "\n",
    "    data={'drvr_fatl_col_bmiles':drvr_fatl_col_bmiles,\n",
    "    'perc_fatl_speed':perc_fatl_speed,\n",
    "    'perc_fatl_alcohol':perc_fatl_alcohol,\n",
    "    'perc_fatl_1st_time':perc_fatl_1st_time,\n",
    "    'million_miles_annually':million_miles_annually\n",
    "    }\n",
    "\n",
    "    features=pd.DataFrame(data,index=[0])\n",
    "    return features\n",
    "\n",
    "df1=user_input_features()\n",
    "st.write(df1)\n",
    "st.write('---')\n",
    "\n",
    "\n",
    "clf=RandomForestClassifier()\n",
    "clf.fit(X_train,y_train)\n",
    "\n",
    "prediction=clf.predict(df1)\n",
    "\n",
    "st.write(\"\"\"\n",
    "### The most probable state\n",
    "\"\"\")\n",
    "st.write(prediction)"
   ]
  },
  {
   "cell_type": "code",
   "execution_count": null,
   "metadata": {},
   "outputs": [],
   "source": []
  }
 ],
 "metadata": {
  "kernelspec": {
   "display_name": "Python 3",
   "language": "python",
   "name": "python3"
  },
  "language_info": {
   "codemirror_mode": {
    "name": "ipython",
    "version": 3
   },
   "file_extension": ".py",
   "mimetype": "text/x-python",
   "name": "python",
   "nbconvert_exporter": "python",
   "pygments_lexer": "ipython3",
   "version": "3.8.3"
  }
 },
 "nbformat": 4,
 "nbformat_minor": 4
}
